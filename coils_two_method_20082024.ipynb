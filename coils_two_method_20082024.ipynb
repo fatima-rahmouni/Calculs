{
 "cells": [
  {
   "cell_type": "code",
   "execution_count": 30,
   "metadata": {},
   "outputs": [
    {
     "data": {
      "application/vnd.plotly.v1+json": {
       "config": {
        "plotlyServerURL": "https://plot.ly"
       },
       "data": [
        {
         "legendgroup": "Collection(id=2215468563152)",
         "line": {
          "color": "#2e91e5",
          "dash": "solid",
          "width": 2.2
         },
         "mode": "lines",
         "name": "Collection (2 sources)",
         "opacity": 1,
         "showlegend": true,
         "type": "scatter3d",
         "x": [
          null,
          -0.11200000000000002,
          -0.1,
          -0.08800000000000001,
          null,
          -0.11200000000000002,
          -0.1,
          -0.08800000000000001
         ],
         "y": [
          null,
          0.020000000000000018,
          1.2246063538223773e-17,
          0.020000000000000014,
          null,
          -0.01999999999999999,
          1.2246063538223773e-17,
          -0.019999999999999993
         ],
         "z": [
          null,
          0.05,
          0.05,
          0.05,
          null,
          -0.05,
          -0.05,
          -0.05
         ]
        },
        {
         "legendgroup": "Collection(id=2215468563152)",
         "line": {
          "color": "#2e91e5",
          "dash": "solid",
          "width": 4.4
         },
         "mode": "lines",
         "name": "Collection (2 sources)",
         "opacity": 1,
         "showlegend": false,
         "type": "scatter3d",
         "x": [
          null,
          0.1,
          0.09960868220749448,
          0.09843779142227256,
          0.09649649145228101,
          0.09379997560189675,
          0.0903693477637204,
          0.08623145725200278,
          0.08141868867035743,
          0.0759687084583285,
          0.06992417010043142,
          0.0633323803048047,
          0.056244928764078064,
          0.04871728439607965,
          0.040808361224346494,
          0.03258005729601175,
          0.024096770245661443,
          0.015424893296530238,
          0.0066322956435104045,
          -0.0022122087153186774,
          -0.01103939954152696,
          -0.01978019209855171,
          -0.02836617783342967,
          -0.03673015976647568,
          -0.04480667839875785,
          -0.0525325240214299,
          -0.059847231417405736,
          -0.06669355308366508,
          -0.07301790727058342,
          -0.07877079733177184,
          -0.08390719910244486,
          -0.08838691327455611,
          -0.09217488001088783,
          -0.09524145333581313,
          -0.09756263315525068,
          -0.09912025308994146,
          -0.09990212265199737,
          -0.09990212265199737,
          -0.09912025308994146,
          -0.0975626331552507,
          -0.09524145333581314,
          -0.09217488001088786,
          -0.08838691327455613,
          -0.08390719910244487,
          -0.07877079733177185,
          -0.07301790727058342,
          -0.0666935530836651,
          -0.05984723141740575,
          -0.05253252402142992,
          -0.04480667839875782,
          -0.03673015976647568,
          -0.028366177833429693,
          -0.019780192098551776,
          -0.011039399541526962,
          -0.0022122087153187016,
          0.006632295643510359,
          0.015424893296530169,
          0.02409677024566144,
          0.03258005729601173,
          0.040808361224346446,
          0.04871728439607967,
          0.05624492876407805,
          0.06333238030480468,
          0.06992417010043137,
          0.0759687084583285,
          0.08141868867035741,
          0.08623145725200276,
          0.0903693477637204,
          0.09379997560189675,
          0.096496491452281,
          0.09843779142227255,
          0.09960868220749448,
          0.1,
          null,
          0.1,
          0.09960868220749448,
          0.09843779142227256,
          0.09649649145228101,
          0.09379997560189675,
          0.0903693477637204,
          0.08623145725200278,
          0.08141868867035743,
          0.0759687084583285,
          0.06992417010043142,
          0.0633323803048047,
          0.056244928764078064,
          0.04871728439607965,
          0.040808361224346494,
          0.03258005729601175,
          0.024096770245661443,
          0.015424893296530238,
          0.0066322956435104045,
          -0.0022122087153186774,
          -0.01103939954152696,
          -0.01978019209855171,
          -0.02836617783342967,
          -0.03673015976647568,
          -0.04480667839875785,
          -0.0525325240214299,
          -0.059847231417405736,
          -0.06669355308366508,
          -0.07301790727058342,
          -0.07877079733177184,
          -0.08390719910244486,
          -0.08838691327455611,
          -0.09217488001088783,
          -0.09524145333581313,
          -0.09756263315525068,
          -0.09912025308994146,
          -0.09990212265199737,
          -0.09990212265199737,
          -0.09912025308994146,
          -0.0975626331552507,
          -0.09524145333581314,
          -0.09217488001088786,
          -0.08838691327455613,
          -0.08390719910244487,
          -0.07877079733177185,
          -0.07301790727058342,
          -0.0666935530836651,
          -0.05984723141740575,
          -0.05253252402142992,
          -0.04480667839875782,
          -0.03673015976647568,
          -0.028366177833429693,
          -0.019780192098551776,
          -0.011039399541526962,
          -0.0022122087153187016,
          0.006632295643510359,
          0.015424893296530169,
          0.02409677024566144,
          0.03258005729601173,
          0.040808361224346446,
          0.04871728439607967,
          0.05624492876407805,
          0.06333238030480468,
          0.06992417010043137,
          0.0759687084583285,
          0.08141868867035741,
          0.08623145725200276,
          0.0903693477637204,
          0.09379997560189675,
          0.096496491452281,
          0.09843779142227255,
          0.09960868220749448,
          0.1
         ],
         "y": [
          null,
          0,
          0.00883801045973425,
          0.01760685150460362,
          0.026237895064197915,
          0.03466359152026193,
          0.04281799837404552,
          0.050637296335764394,
          0.05806028879707207,
          0.06502888077749369,
          0.07148853359641626,
          0.07738869171221069,
          0.08268317838789087,
          0.08733055708668928,
          0.09129445576913887,
          0.09454385155359703,
          0.09705331351235674,
          0.0988032017031364,
          0.09977982087825711,
          0.0999755276685243,
          0.09938879040295508,
          0.09802420109618029,
          0.09589243950970401,
          0.09301018956828963,
          0.08940000878562758,
          0.08509015172120621,
          0.08011434885007483,
          0.07451154257614284,
          0.06832558245506935,
          0.06160488201203643,
          0.054402039840273246,
          0.04677342794574819,
          0.03877875055979024,
          0.03048057687252867,
          0.021943851344146052,
          0.013235385426422261,
          0.004423334672537885,
          -0.004423334672537861,
          -0.01323538542642224,
          -0.021943851344146028,
          -0.03048057687252865,
          -0.03877875055979018,
          -0.04677342794574817,
          -0.05440203984027323,
          -0.0616048820120364,
          -0.06832558245506935,
          -0.07451154257614283,
          -0.0801143488500748,
          -0.0850901517212062,
          -0.0894000087856276,
          -0.09301018956828963,
          -0.09589243950970401,
          -0.09802420109618028,
          -0.09938879040295508,
          -0.0999755276685243,
          -0.09977982087825711,
          -0.09880320170313642,
          -0.09705331351235674,
          -0.09454385155359704,
          -0.0912944557691389,
          -0.08733055708668927,
          -0.08268317838789088,
          -0.0773886917122107,
          -0.0714885335964163,
          -0.06502888077749369,
          -0.05806028879707209,
          -0.05063729633576443,
          -0.04281799837404551,
          -0.03466359152026195,
          -0.02623789506419795,
          -0.01760685150460368,
          -0.008838010459734248,
          -2.4492935982947065e-17,
          null,
          0,
          0.00883801045973425,
          0.01760685150460362,
          0.026237895064197915,
          0.03466359152026193,
          0.04281799837404552,
          0.050637296335764394,
          0.05806028879707207,
          0.06502888077749369,
          0.07148853359641626,
          0.07738869171221069,
          0.08268317838789087,
          0.08733055708668928,
          0.09129445576913887,
          0.09454385155359703,
          0.09705331351235674,
          0.0988032017031364,
          0.09977982087825711,
          0.0999755276685243,
          0.09938879040295508,
          0.09802420109618029,
          0.09589243950970401,
          0.09301018956828963,
          0.08940000878562758,
          0.08509015172120621,
          0.08011434885007483,
          0.07451154257614284,
          0.06832558245506935,
          0.06160488201203643,
          0.054402039840273246,
          0.04677342794574819,
          0.03877875055979024,
          0.03048057687252867,
          0.021943851344146052,
          0.013235385426422261,
          0.004423334672537885,
          -0.004423334672537861,
          -0.01323538542642224,
          -0.021943851344146028,
          -0.03048057687252865,
          -0.03877875055979018,
          -0.04677342794574817,
          -0.05440203984027323,
          -0.0616048820120364,
          -0.06832558245506935,
          -0.07451154257614283,
          -0.0801143488500748,
          -0.0850901517212062,
          -0.0894000087856276,
          -0.09301018956828963,
          -0.09589243950970401,
          -0.09802420109618028,
          -0.09938879040295508,
          -0.0999755276685243,
          -0.09977982087825711,
          -0.09880320170313642,
          -0.09705331351235674,
          -0.09454385155359704,
          -0.0912944557691389,
          -0.08733055708668927,
          -0.08268317838789088,
          -0.0773886917122107,
          -0.0714885335964163,
          -0.06502888077749369,
          -0.05806028879707209,
          -0.05063729633576443,
          -0.04281799837404551,
          -0.03466359152026195,
          -0.02623789506419795,
          -0.01760685150460368,
          -0.008838010459734248,
          -2.4492935982947065e-17
         ],
         "z": [
          null,
          0.05,
          0.05,
          0.05,
          0.05,
          0.05,
          0.05,
          0.05,
          0.05,
          0.05,
          0.05,
          0.05,
          0.05,
          0.05,
          0.05,
          0.05,
          0.05,
          0.05,
          0.05,
          0.05,
          0.05,
          0.05,
          0.05,
          0.05,
          0.05,
          0.05,
          0.05,
          0.05,
          0.05,
          0.05,
          0.05,
          0.05,
          0.05,
          0.05,
          0.05,
          0.05,
          0.05,
          0.05,
          0.05,
          0.05,
          0.05,
          0.05,
          0.05,
          0.05,
          0.05,
          0.05,
          0.05,
          0.05,
          0.05,
          0.05,
          0.05,
          0.05,
          0.05,
          0.05,
          0.05,
          0.05,
          0.05,
          0.05,
          0.05,
          0.05,
          0.05,
          0.05,
          0.05,
          0.05,
          0.05,
          0.05,
          0.05,
          0.05,
          0.05,
          0.05,
          0.05,
          0.05,
          0.05,
          null,
          -0.05,
          -0.05,
          -0.05,
          -0.05,
          -0.05,
          -0.05,
          -0.05,
          -0.05,
          -0.05,
          -0.05,
          -0.05,
          -0.05,
          -0.05,
          -0.05,
          -0.05,
          -0.05,
          -0.05,
          -0.05,
          -0.05,
          -0.05,
          -0.05,
          -0.05,
          -0.05,
          -0.05,
          -0.05,
          -0.05,
          -0.05,
          -0.05,
          -0.05,
          -0.05,
          -0.05,
          -0.05,
          -0.05,
          -0.05,
          -0.05,
          -0.05,
          -0.05,
          -0.05,
          -0.05,
          -0.05,
          -0.05,
          -0.05,
          -0.05,
          -0.05,
          -0.05,
          -0.05,
          -0.05,
          -0.05,
          -0.05,
          -0.05,
          -0.05,
          -0.05,
          -0.05,
          -0.05,
          -0.05,
          -0.05,
          -0.05,
          -0.05,
          -0.05,
          -0.05,
          -0.05,
          -0.05,
          -0.05,
          -0.05,
          -0.05,
          -0.05,
          -0.05,
          -0.05,
          -0.05,
          -0.05,
          -0.05,
          -0.05
         ]
        }
       ],
       "layout": {
        "legend": {
         "itemsizing": "constant"
        },
        "scene": {
         "aspectmode": "manual",
         "aspectratio": {
          "x": 1,
          "y": 1,
          "z": 1
         },
         "camera": {
          "eye": {
           "x": 1,
           "y": -1.5,
           "z": 1.4
          }
         },
         "xaxis": {
          "autorange": false,
          "range": [
           -0.11200000000000002,
           0.1
          ],
          "title": {
           "text": "x (m)"
          }
         },
         "yaxis": {
          "autorange": false,
          "range": [
           -0.10600000000000001,
           0.10600000000000001
          ],
          "title": {
           "text": "y (m)"
          }
         },
         "zaxis": {
          "autorange": false,
          "range": [
           -0.10600000000000001,
           0.10600000000000001
          ],
          "title": {
           "text": "z (m)"
          }
         }
        },
        "template": {
         "data": {
          "bar": [
           {
            "error_x": {
             "color": "#2a3f5f"
            },
            "error_y": {
             "color": "#2a3f5f"
            },
            "marker": {
             "line": {
              "color": "#E5ECF6",
              "width": 0.5
             },
             "pattern": {
              "fillmode": "overlay",
              "size": 10,
              "solidity": 0.2
             }
            },
            "type": "bar"
           }
          ],
          "barpolar": [
           {
            "marker": {
             "line": {
              "color": "#E5ECF6",
              "width": 0.5
             },
             "pattern": {
              "fillmode": "overlay",
              "size": 10,
              "solidity": 0.2
             }
            },
            "type": "barpolar"
           }
          ],
          "carpet": [
           {
            "aaxis": {
             "endlinecolor": "#2a3f5f",
             "gridcolor": "white",
             "linecolor": "white",
             "minorgridcolor": "white",
             "startlinecolor": "#2a3f5f"
            },
            "baxis": {
             "endlinecolor": "#2a3f5f",
             "gridcolor": "white",
             "linecolor": "white",
             "minorgridcolor": "white",
             "startlinecolor": "#2a3f5f"
            },
            "type": "carpet"
           }
          ],
          "choropleth": [
           {
            "colorbar": {
             "outlinewidth": 0,
             "ticks": ""
            },
            "type": "choropleth"
           }
          ],
          "contour": [
           {
            "colorbar": {
             "outlinewidth": 0,
             "ticks": ""
            },
            "colorscale": [
             [
              0,
              "#0d0887"
             ],
             [
              0.1111111111111111,
              "#46039f"
             ],
             [
              0.2222222222222222,
              "#7201a8"
             ],
             [
              0.3333333333333333,
              "#9c179e"
             ],
             [
              0.4444444444444444,
              "#bd3786"
             ],
             [
              0.5555555555555556,
              "#d8576b"
             ],
             [
              0.6666666666666666,
              "#ed7953"
             ],
             [
              0.7777777777777778,
              "#fb9f3a"
             ],
             [
              0.8888888888888888,
              "#fdca26"
             ],
             [
              1,
              "#f0f921"
             ]
            ],
            "type": "contour"
           }
          ],
          "contourcarpet": [
           {
            "colorbar": {
             "outlinewidth": 0,
             "ticks": ""
            },
            "type": "contourcarpet"
           }
          ],
          "heatmap": [
           {
            "colorbar": {
             "outlinewidth": 0,
             "ticks": ""
            },
            "colorscale": [
             [
              0,
              "#0d0887"
             ],
             [
              0.1111111111111111,
              "#46039f"
             ],
             [
              0.2222222222222222,
              "#7201a8"
             ],
             [
              0.3333333333333333,
              "#9c179e"
             ],
             [
              0.4444444444444444,
              "#bd3786"
             ],
             [
              0.5555555555555556,
              "#d8576b"
             ],
             [
              0.6666666666666666,
              "#ed7953"
             ],
             [
              0.7777777777777778,
              "#fb9f3a"
             ],
             [
              0.8888888888888888,
              "#fdca26"
             ],
             [
              1,
              "#f0f921"
             ]
            ],
            "type": "heatmap"
           }
          ],
          "heatmapgl": [
           {
            "colorbar": {
             "outlinewidth": 0,
             "ticks": ""
            },
            "colorscale": [
             [
              0,
              "#0d0887"
             ],
             [
              0.1111111111111111,
              "#46039f"
             ],
             [
              0.2222222222222222,
              "#7201a8"
             ],
             [
              0.3333333333333333,
              "#9c179e"
             ],
             [
              0.4444444444444444,
              "#bd3786"
             ],
             [
              0.5555555555555556,
              "#d8576b"
             ],
             [
              0.6666666666666666,
              "#ed7953"
             ],
             [
              0.7777777777777778,
              "#fb9f3a"
             ],
             [
              0.8888888888888888,
              "#fdca26"
             ],
             [
              1,
              "#f0f921"
             ]
            ],
            "type": "heatmapgl"
           }
          ],
          "histogram": [
           {
            "marker": {
             "pattern": {
              "fillmode": "overlay",
              "size": 10,
              "solidity": 0.2
             }
            },
            "type": "histogram"
           }
          ],
          "histogram2d": [
           {
            "colorbar": {
             "outlinewidth": 0,
             "ticks": ""
            },
            "colorscale": [
             [
              0,
              "#0d0887"
             ],
             [
              0.1111111111111111,
              "#46039f"
             ],
             [
              0.2222222222222222,
              "#7201a8"
             ],
             [
              0.3333333333333333,
              "#9c179e"
             ],
             [
              0.4444444444444444,
              "#bd3786"
             ],
             [
              0.5555555555555556,
              "#d8576b"
             ],
             [
              0.6666666666666666,
              "#ed7953"
             ],
             [
              0.7777777777777778,
              "#fb9f3a"
             ],
             [
              0.8888888888888888,
              "#fdca26"
             ],
             [
              1,
              "#f0f921"
             ]
            ],
            "type": "histogram2d"
           }
          ],
          "histogram2dcontour": [
           {
            "colorbar": {
             "outlinewidth": 0,
             "ticks": ""
            },
            "colorscale": [
             [
              0,
              "#0d0887"
             ],
             [
              0.1111111111111111,
              "#46039f"
             ],
             [
              0.2222222222222222,
              "#7201a8"
             ],
             [
              0.3333333333333333,
              "#9c179e"
             ],
             [
              0.4444444444444444,
              "#bd3786"
             ],
             [
              0.5555555555555556,
              "#d8576b"
             ],
             [
              0.6666666666666666,
              "#ed7953"
             ],
             [
              0.7777777777777778,
              "#fb9f3a"
             ],
             [
              0.8888888888888888,
              "#fdca26"
             ],
             [
              1,
              "#f0f921"
             ]
            ],
            "type": "histogram2dcontour"
           }
          ],
          "mesh3d": [
           {
            "colorbar": {
             "outlinewidth": 0,
             "ticks": ""
            },
            "type": "mesh3d"
           }
          ],
          "parcoords": [
           {
            "line": {
             "colorbar": {
              "outlinewidth": 0,
              "ticks": ""
             }
            },
            "type": "parcoords"
           }
          ],
          "pie": [
           {
            "automargin": true,
            "type": "pie"
           }
          ],
          "scatter": [
           {
            "fillpattern": {
             "fillmode": "overlay",
             "size": 10,
             "solidity": 0.2
            },
            "type": "scatter"
           }
          ],
          "scatter3d": [
           {
            "line": {
             "colorbar": {
              "outlinewidth": 0,
              "ticks": ""
             }
            },
            "marker": {
             "colorbar": {
              "outlinewidth": 0,
              "ticks": ""
             }
            },
            "type": "scatter3d"
           }
          ],
          "scattercarpet": [
           {
            "marker": {
             "colorbar": {
              "outlinewidth": 0,
              "ticks": ""
             }
            },
            "type": "scattercarpet"
           }
          ],
          "scattergeo": [
           {
            "marker": {
             "colorbar": {
              "outlinewidth": 0,
              "ticks": ""
             }
            },
            "type": "scattergeo"
           }
          ],
          "scattergl": [
           {
            "marker": {
             "colorbar": {
              "outlinewidth": 0,
              "ticks": ""
             }
            },
            "type": "scattergl"
           }
          ],
          "scattermapbox": [
           {
            "marker": {
             "colorbar": {
              "outlinewidth": 0,
              "ticks": ""
             }
            },
            "type": "scattermapbox"
           }
          ],
          "scatterpolar": [
           {
            "marker": {
             "colorbar": {
              "outlinewidth": 0,
              "ticks": ""
             }
            },
            "type": "scatterpolar"
           }
          ],
          "scatterpolargl": [
           {
            "marker": {
             "colorbar": {
              "outlinewidth": 0,
              "ticks": ""
             }
            },
            "type": "scatterpolargl"
           }
          ],
          "scatterternary": [
           {
            "marker": {
             "colorbar": {
              "outlinewidth": 0,
              "ticks": ""
             }
            },
            "type": "scatterternary"
           }
          ],
          "surface": [
           {
            "colorbar": {
             "outlinewidth": 0,
             "ticks": ""
            },
            "colorscale": [
             [
              0,
              "#0d0887"
             ],
             [
              0.1111111111111111,
              "#46039f"
             ],
             [
              0.2222222222222222,
              "#7201a8"
             ],
             [
              0.3333333333333333,
              "#9c179e"
             ],
             [
              0.4444444444444444,
              "#bd3786"
             ],
             [
              0.5555555555555556,
              "#d8576b"
             ],
             [
              0.6666666666666666,
              "#ed7953"
             ],
             [
              0.7777777777777778,
              "#fb9f3a"
             ],
             [
              0.8888888888888888,
              "#fdca26"
             ],
             [
              1,
              "#f0f921"
             ]
            ],
            "type": "surface"
           }
          ],
          "table": [
           {
            "cells": {
             "fill": {
              "color": "#EBF0F8"
             },
             "line": {
              "color": "white"
             }
            },
            "header": {
             "fill": {
              "color": "#C8D4E3"
             },
             "line": {
              "color": "white"
             }
            },
            "type": "table"
           }
          ]
         },
         "layout": {
          "annotationdefaults": {
           "arrowcolor": "#2a3f5f",
           "arrowhead": 0,
           "arrowwidth": 1
          },
          "autotypenumbers": "strict",
          "coloraxis": {
           "colorbar": {
            "outlinewidth": 0,
            "ticks": ""
           }
          },
          "colorscale": {
           "diverging": [
            [
             0,
             "#8e0152"
            ],
            [
             0.1,
             "#c51b7d"
            ],
            [
             0.2,
             "#de77ae"
            ],
            [
             0.3,
             "#f1b6da"
            ],
            [
             0.4,
             "#fde0ef"
            ],
            [
             0.5,
             "#f7f7f7"
            ],
            [
             0.6,
             "#e6f5d0"
            ],
            [
             0.7,
             "#b8e186"
            ],
            [
             0.8,
             "#7fbc41"
            ],
            [
             0.9,
             "#4d9221"
            ],
            [
             1,
             "#276419"
            ]
           ],
           "sequential": [
            [
             0,
             "#0d0887"
            ],
            [
             0.1111111111111111,
             "#46039f"
            ],
            [
             0.2222222222222222,
             "#7201a8"
            ],
            [
             0.3333333333333333,
             "#9c179e"
            ],
            [
             0.4444444444444444,
             "#bd3786"
            ],
            [
             0.5555555555555556,
             "#d8576b"
            ],
            [
             0.6666666666666666,
             "#ed7953"
            ],
            [
             0.7777777777777778,
             "#fb9f3a"
            ],
            [
             0.8888888888888888,
             "#fdca26"
            ],
            [
             1,
             "#f0f921"
            ]
           ],
           "sequentialminus": [
            [
             0,
             "#0d0887"
            ],
            [
             0.1111111111111111,
             "#46039f"
            ],
            [
             0.2222222222222222,
             "#7201a8"
            ],
            [
             0.3333333333333333,
             "#9c179e"
            ],
            [
             0.4444444444444444,
             "#bd3786"
            ],
            [
             0.5555555555555556,
             "#d8576b"
            ],
            [
             0.6666666666666666,
             "#ed7953"
            ],
            [
             0.7777777777777778,
             "#fb9f3a"
            ],
            [
             0.8888888888888888,
             "#fdca26"
            ],
            [
             1,
             "#f0f921"
            ]
           ]
          },
          "colorway": [
           "#636efa",
           "#EF553B",
           "#00cc96",
           "#ab63fa",
           "#FFA15A",
           "#19d3f3",
           "#FF6692",
           "#B6E880",
           "#FF97FF",
           "#FECB52"
          ],
          "font": {
           "color": "#2a3f5f"
          },
          "geo": {
           "bgcolor": "white",
           "lakecolor": "white",
           "landcolor": "#E5ECF6",
           "showlakes": true,
           "showland": true,
           "subunitcolor": "white"
          },
          "hoverlabel": {
           "align": "left"
          },
          "hovermode": "closest",
          "mapbox": {
           "style": "light"
          },
          "paper_bgcolor": "white",
          "plot_bgcolor": "#E5ECF6",
          "polar": {
           "angularaxis": {
            "gridcolor": "white",
            "linecolor": "white",
            "ticks": ""
           },
           "bgcolor": "#E5ECF6",
           "radialaxis": {
            "gridcolor": "white",
            "linecolor": "white",
            "ticks": ""
           }
          },
          "scene": {
           "xaxis": {
            "backgroundcolor": "#E5ECF6",
            "gridcolor": "white",
            "gridwidth": 2,
            "linecolor": "white",
            "showbackground": true,
            "ticks": "",
            "zerolinecolor": "white"
           },
           "yaxis": {
            "backgroundcolor": "#E5ECF6",
            "gridcolor": "white",
            "gridwidth": 2,
            "linecolor": "white",
            "showbackground": true,
            "ticks": "",
            "zerolinecolor": "white"
           },
           "zaxis": {
            "backgroundcolor": "#E5ECF6",
            "gridcolor": "white",
            "gridwidth": 2,
            "linecolor": "white",
            "showbackground": true,
            "ticks": "",
            "zerolinecolor": "white"
           }
          },
          "shapedefaults": {
           "line": {
            "color": "#2a3f5f"
           }
          },
          "ternary": {
           "aaxis": {
            "gridcolor": "white",
            "linecolor": "white",
            "ticks": ""
           },
           "baxis": {
            "gridcolor": "white",
            "linecolor": "white",
            "ticks": ""
           },
           "bgcolor": "#E5ECF6",
           "caxis": {
            "gridcolor": "white",
            "linecolor": "white",
            "ticks": ""
           }
          },
          "title": {
           "x": 0.05
          },
          "xaxis": {
           "automargin": true,
           "gridcolor": "white",
           "linecolor": "white",
           "ticks": "",
           "title": {
            "standoff": 15
           },
           "zerolinecolor": "white",
           "zerolinewidth": 2
          },
          "yaxis": {
           "automargin": true,
           "gridcolor": "white",
           "linecolor": "white",
           "ticks": "",
           "title": {
            "standoff": 15
           },
           "zerolinecolor": "white",
           "zerolinewidth": 2
          }
         }
        }
       }
      }
     },
     "metadata": {},
     "output_type": "display_data"
    }
   ],
   "source": [
    "import magpylib as magpy\n",
    "import numpy as np\n",
    "import matplotlib.pyplot as plt\n",
    "\n",
    "\n",
    "def method_1(radius, current):\n",
    "    distance = radius  # distance between the centers of the loops\n",
    "\n",
    "    # Create the two circular loops\n",
    "    loop1 = magpy.current.Circle(current=+current, diameter=2*radius)\n",
    "    loop2 = magpy.current.Circle(current=-current, diameter=2*radius)\n",
    "\n",
    "    # Position the loops at +distance/2 and -distance/2 along the z-axis\n",
    "    loop1.move([0, 0, distance/2])\n",
    "    loop2.move([0, 0, -distance/2])\n",
    "\n",
    "    # Create a collection of the two loops\n",
    "    collection = magpy.Collection(loop1, loop2)\n",
    "    collection.show()\n",
    "\n",
    "    return collection\n",
    "\n",
    "# Define parameters\n",
    "radius = 100e-3  # in mm\n",
    "current = 200  # in A\n",
    "\n",
    "anti_helmholtz = method_1(radius, current)\n"
   ]
  },
  {
   "cell_type": "code",
   "execution_count": 32,
   "metadata": {},
   "outputs": [],
   "source": [
    "\n",
    "N = 500  # Increased grid resolution\n",
    "r = np.linspace(-radius * 2, radius * 2, N)\n",
    "\n",
    "# Define a 3D grid for calculation\n",
    "mid = N//2 \n",
    "dr = r[1]-r[0]\n",
    "\n",
    "X_3D, Y_3D, Z_3D = np.meshgrid(r, r, r, indexing='ij')\n",
    "\n",
    "# Flatten the grid for magpy.getB function\n",
    "positions = np.vstack([X_3D.ravel(), Y_3D.ravel(), Z_3D.ravel()]).T\n",
    "\n",
    "# Calculate the magnetic field components at each grid point\n",
    "B = magpy.getB(anti_helmholtz, positions)\n",
    "\n",
    "Bx = B[:, 0].reshape(N, N, N)\n",
    "By = B[:, 1].reshape(N, N, N)\n",
    "Bz = B[:, 2].reshape(N, N, N)\n",
    "\n",
    "B = B.reshape((N, N, N, 3))\n",
    " \n",
    "# Calculate the gradient\n",
    "grad_Bx, grad_By, grad_Bz = np.gradient(Bx, dr, axis=0) , np.gradient(By, dr, axis=1) , np.gradient(Bz, dr, axis=2)\n",
    "\n",
    "# Calculate the numerical divergence of the magnetic field\n",
    "div_B = grad_Bx +  grad_By +  grad_Bz \n",
    "\n",
    "# Magnetic field in the center\n",
    "f, axs = plt.subplots(1,3, sharey=True, dpi=150,figsize=(8, 3))\n",
    "axs[0].plot(r*1e3, Bx[:,mid,mid]*1e3)\n",
    "axs[1].plot(r*1e3, By[mid,:,mid]*1e3)\n",
    "axs[2].plot(r*1e3, Bz[mid,mid,:]*1e3)\n",
    "axs[0].set_xlabel('$x$ [mm]')\n",
    "axs[1].set_xlabel('$y$ [mm]')\n",
    "axs[2].set_xlabel('$z$ [mm]')\n",
    "axs[0].set_ylabel('Magnetic field [mT]')\n",
    "\n",
    "# Plot magnetic field\n",
    "plt.figure(figsize=(8, 6), dpi=150)\n",
    "X_2D, Z_2D = np.meshgrid(r, r, indexing='ij')\n",
    "\n",
    "# Calculate the magnitude of the magnetic field in the XZ plane at Y=0 (midplane)\n",
    "B_magnitude = np.sqrt(Bx[:, mid, :]**2 + By[:, mid, :]**2 + Bz[:, mid, :]**2)\n",
    "\n",
    "# Clip the magnitude to a maximum value to avoid saturation\n",
    "max_magnitude = np.percentile(B_magnitude, 99)  # Clipping at the 99th percentile\n",
    "B_magnitude_clipped = np.clip(B_magnitude, None, max_magnitude)\n",
    "\n",
    "B_grad_XZ_z = np.gradient(B_magnitude, axis=1)\n",
    "B_grad_XZ_x = np.gradient(B_magnitude, axis=0)\n",
    "B_grad_XY_mag = np.sqrt(B_grad_XZ_z**2 +B_grad_XZ_x**2 )\n",
    "# Plot the magnitude of the magnetic field using imshow\n",
    "img_borders = (r.min()*1e3, r.max()*1e3, r.min()*1e3, r.max()*1e3)\n",
    "plt.figure(figsize=(8, 6), dpi=150)\n",
    "plt.imshow(B_magnitude_clipped, extent=img_borders, origin='lower', cmap='RdBu_r')\n",
    "plt.colorbar(label=r'$|\\mathbf{B}|$ [T]')\n",
    "plt.streamplot(Z_2D*1e3, X_2D*1e3,  Bz[:,mid,:],  Bx[:,mid,:], color=\"black\", density=1 )\n",
    "plt.title('Magnetic Field in the XZ plane (y=0)')\n",
    "plt.xlabel('$x$ [mm]')\n",
    "plt.ylabel('$z$ [mm]')\n",
    "plt.gca().set_aspect(\"equal\")\n",
    "\n",
    "# Plot the divergence\n",
    "plt.figure(figsize=(8, 6), dpi=150)\n",
    "plt.imshow(div_B[:, mid, :], extent=img_borders, origin='lower', cmap='RdBu_r')\n",
    "plt.colorbar(label='$\\\\nabla \\\\cdot \\\\mathbf{B}$ [T/m]')\n",
    "plt.title('Divergence of Magnetic Field in the XZ plane (y=0)')\n",
    "plt.xlabel('$x$ [mm]')\n",
    "plt.ylabel('$z$ [mm]');\n",
    "\n",
    "# Plot the gradient\n",
    "plt.figure(figsize=(8, 6), dpi=150)\n",
    "plt.title('Gradient of Magnetic Field along the XZ axes')\n",
    "# plt.imshow(B_grad_XY_mag, extent=img_borders, origin='lower', cmap='RdBu_r')\n",
    "\n",
    "plt.plot(r*1e3, B_grad_XZ_z[:,mid]*1e3)\n",
    "plt.plot(r*1e3, B_grad_XZ_x[mid,:]*1e3)\n",
    "plt.xlabel('$position$ [mm]')\n",
    "plt.ylabel('$Gradient$ [mT/m]')\n"
   ]
  },
  {
   "cell_type": "code",
   "execution_count": null,
   "metadata": {},
   "outputs": [],
   "source": []
  },
  {
   "cell_type": "code",
   "execution_count": null,
   "metadata": {},
   "outputs": [],
   "source": []
  }
 ],
 "metadata": {
  "kernelspec": {
   "display_name": "Python 3",
   "language": "python",
   "name": "python3"
  },
  "language_info": {
   "codemirror_mode": {
    "name": "ipython",
    "version": 3
   },
   "file_extension": ".py",
   "mimetype": "text/x-python",
   "name": "python",
   "nbconvert_exporter": "python",
   "pygments_lexer": "ipython3",
   "version": "3.12.3"
  }
 },
 "nbformat": 4,
 "nbformat_minor": 2
}
