{
 "cells": [
  {
   "cell_type": "code",
   "execution_count": 21,
   "metadata": {},
   "outputs": [
    {
     "data": {
      "application/vnd.plotly.v1+json": {
       "config": {
        "plotlyServerURL": "https://plot.ly"
       },
       "data": [
        {
         "legendgroup": "Collection(id=2169202617584)",
         "line": {
          "color": "#2e91e5",
          "dash": "solid",
          "width": 2.2
         },
         "mode": "lines",
         "name": "Collection (2 sources)",
         "opacity": 1,
         "showlegend": true,
         "type": "scatter3d",
         "x": [
          null,
          -112.00000000000001,
          -100,
          -88,
          null,
          -112.00000000000001,
          -100,
          -88
         ],
         "y": [
          null,
          20.000000000000014,
          1.2246063538223773e-14,
          20.00000000000001,
          null,
          -19.999999999999986,
          1.2246063538223773e-14,
          -19.99999999999999
         ],
         "z": [
          null,
          50,
          50,
          50,
          null,
          -50,
          -50,
          -50
         ]
        },
        {
         "legendgroup": "Collection(id=2169202617584)",
         "line": {
          "color": "#2e91e5",
          "dash": "solid",
          "width": 4.4
         },
         "mode": "lines",
         "name": "Collection (2 sources)",
         "opacity": 1,
         "showlegend": false,
         "type": "scatter3d",
         "x": [
          null,
          100,
          99.60868220749448,
          98.43779142227255,
          96.49649145228099,
          93.79997560189675,
          90.36934776372038,
          86.23145725200277,
          81.41868867035743,
          75.96870845832849,
          69.92417010043141,
          63.3323803048047,
          56.24492876407806,
          48.71728439607965,
          40.80836122434649,
          32.58005729601175,
          24.096770245661443,
          15.424893296530238,
          6.632295643510404,
          -2.2122087153186776,
          -11.03939954152696,
          -19.78019209855171,
          -28.366177833429667,
          -36.73015976647568,
          -44.806678398757846,
          -52.53252402142989,
          -59.84723141740573,
          -66.69355308366508,
          -73.01790727058342,
          -78.77079733177183,
          -83.90719910244485,
          -88.38691327455611,
          -92.17488001088783,
          -95.24145333581313,
          -97.56263315525068,
          -99.12025308994146,
          -99.90212265199736,
          -99.90212265199736,
          -99.12025308994146,
          -97.5626331552507,
          -95.24145333581315,
          -92.17488001088785,
          -88.38691327455612,
          -83.90719910244486,
          -78.77079733177185,
          -73.01790727058342,
          -66.69355308366511,
          -59.847231417405744,
          -52.532524021429914,
          -44.80667839875782,
          -36.73015976647568,
          -28.36617783342969,
          -19.780192098551773,
          -11.039399541526961,
          -2.2122087153187016,
          6.632295643510358,
          15.424893296530168,
          24.09677024566144,
          32.58005729601173,
          40.80836122434645,
          48.71728439607966,
          56.244928764078054,
          63.33238030480467,
          69.92417010043135,
          75.96870845832849,
          81.41868867035741,
          86.23145725200276,
          90.36934776372038,
          93.79997560189675,
          96.49649145228099,
          98.43779142227255,
          99.60868220749448,
          100,
          null,
          100,
          99.60868220749448,
          98.43779142227255,
          96.49649145228099,
          93.79997560189675,
          90.36934776372038,
          86.23145725200277,
          81.41868867035743,
          75.96870845832849,
          69.92417010043141,
          63.3323803048047,
          56.24492876407806,
          48.71728439607965,
          40.80836122434649,
          32.58005729601175,
          24.096770245661443,
          15.424893296530238,
          6.632295643510404,
          -2.2122087153186776,
          -11.03939954152696,
          -19.78019209855171,
          -28.366177833429667,
          -36.73015976647568,
          -44.806678398757846,
          -52.53252402142989,
          -59.84723141740573,
          -66.69355308366508,
          -73.01790727058342,
          -78.77079733177183,
          -83.90719910244485,
          -88.38691327455611,
          -92.17488001088783,
          -95.24145333581313,
          -97.56263315525068,
          -99.12025308994146,
          -99.90212265199736,
          -99.90212265199736,
          -99.12025308994146,
          -97.5626331552507,
          -95.24145333581315,
          -92.17488001088785,
          -88.38691327455612,
          -83.90719910244486,
          -78.77079733177185,
          -73.01790727058342,
          -66.69355308366511,
          -59.847231417405744,
          -52.532524021429914,
          -44.80667839875782,
          -36.73015976647568,
          -28.36617783342969,
          -19.780192098551773,
          -11.039399541526961,
          -2.2122087153187016,
          6.632295643510358,
          15.424893296530168,
          24.09677024566144,
          32.58005729601173,
          40.80836122434645,
          48.71728439607966,
          56.244928764078054,
          63.33238030480467,
          69.92417010043135,
          75.96870845832849,
          81.41868867035741,
          86.23145725200276,
          90.36934776372038,
          93.79997560189675,
          96.49649145228099,
          98.43779142227255,
          99.60868220749448,
          100
         ],
         "y": [
          null,
          0,
          8.838010459734248,
          17.60685150460362,
          26.237895064197915,
          34.66359152026193,
          42.817998374045516,
          50.63729633576439,
          58.06028879707207,
          65.0288807774937,
          71.48853359641625,
          77.38869171221067,
          82.68317838789086,
          87.33055708668928,
          91.29445576913888,
          94.54385155359702,
          97.05331351235674,
          98.8032017031364,
          99.77982087825711,
          99.9755276685243,
          99.38879040295507,
          98.02420109618029,
          95.892439509704,
          93.01018956828962,
          89.40000878562758,
          85.09015172120621,
          80.11434885007482,
          74.51154257614284,
          68.32558245506935,
          61.60488201203642,
          54.40203984027324,
          46.77342794574819,
          38.77875055979024,
          30.48057687252867,
          21.94385134414605,
          13.23538542642226,
          4.423334672537885,
          -4.423334672537861,
          -13.235385426422239,
          -21.943851344146026,
          -30.480576872528648,
          -38.778750559790176,
          -46.77342794574816,
          -54.40203984027323,
          -61.6048820120364,
          -68.32558245506934,
          -74.51154257614283,
          -80.1143488500748,
          -85.09015172120618,
          -89.40000878562758,
          -93.01018956828962,
          -95.892439509704,
          -98.02420109618028,
          -99.38879040295507,
          -99.9755276685243,
          -99.77982087825711,
          -98.80320170313641,
          -97.05331351235674,
          -94.54385155359704,
          -91.29445576913889,
          -87.33055708668927,
          -82.68317838789088,
          -77.3886917122107,
          -71.48853359641629,
          -65.0288807774937,
          -58.06028879707209,
          -50.637296335764425,
          -42.817998374045516,
          -34.663591520261946,
          -26.237895064197946,
          -17.60685150460368,
          -8.838010459734246,
          -2.4492935982947064e-14,
          null,
          0,
          8.838010459734248,
          17.60685150460362,
          26.237895064197915,
          34.66359152026193,
          42.817998374045516,
          50.63729633576439,
          58.06028879707207,
          65.0288807774937,
          71.48853359641625,
          77.38869171221067,
          82.68317838789086,
          87.33055708668928,
          91.29445576913888,
          94.54385155359702,
          97.05331351235674,
          98.8032017031364,
          99.77982087825711,
          99.9755276685243,
          99.38879040295507,
          98.02420109618029,
          95.892439509704,
          93.01018956828962,
          89.40000878562758,
          85.09015172120621,
          80.11434885007482,
          74.51154257614284,
          68.32558245506935,
          61.60488201203642,
          54.40203984027324,
          46.77342794574819,
          38.77875055979024,
          30.48057687252867,
          21.94385134414605,
          13.23538542642226,
          4.423334672537885,
          -4.423334672537861,
          -13.235385426422239,
          -21.943851344146026,
          -30.480576872528648,
          -38.778750559790176,
          -46.77342794574816,
          -54.40203984027323,
          -61.6048820120364,
          -68.32558245506934,
          -74.51154257614283,
          -80.1143488500748,
          -85.09015172120618,
          -89.40000878562758,
          -93.01018956828962,
          -95.892439509704,
          -98.02420109618028,
          -99.38879040295507,
          -99.9755276685243,
          -99.77982087825711,
          -98.80320170313641,
          -97.05331351235674,
          -94.54385155359704,
          -91.29445576913889,
          -87.33055708668927,
          -82.68317838789088,
          -77.3886917122107,
          -71.48853359641629,
          -65.0288807774937,
          -58.06028879707209,
          -50.637296335764425,
          -42.817998374045516,
          -34.663591520261946,
          -26.237895064197946,
          -17.60685150460368,
          -8.838010459734246,
          -2.4492935982947064e-14
         ],
         "z": [
          null,
          50,
          50,
          50,
          50,
          50,
          50,
          50,
          50,
          50,
          50,
          50,
          50,
          50,
          50,
          50,
          50,
          50,
          50,
          50,
          50,
          50,
          50,
          50,
          50,
          50,
          50,
          50,
          50,
          50,
          50,
          50,
          50,
          50,
          50,
          50,
          50,
          50,
          50,
          50,
          50,
          50,
          50,
          50,
          50,
          50,
          50,
          50,
          50,
          50,
          50,
          50,
          50,
          50,
          50,
          50,
          50,
          50,
          50,
          50,
          50,
          50,
          50,
          50,
          50,
          50,
          50,
          50,
          50,
          50,
          50,
          50,
          50,
          null,
          -50,
          -50,
          -50,
          -50,
          -50,
          -50,
          -50,
          -50,
          -50,
          -50,
          -50,
          -50,
          -50,
          -50,
          -50,
          -50,
          -50,
          -50,
          -50,
          -50,
          -50,
          -50,
          -50,
          -50,
          -50,
          -50,
          -50,
          -50,
          -50,
          -50,
          -50,
          -50,
          -50,
          -50,
          -50,
          -50,
          -50,
          -50,
          -50,
          -50,
          -50,
          -50,
          -50,
          -50,
          -50,
          -50,
          -50,
          -50,
          -50,
          -50,
          -50,
          -50,
          -50,
          -50,
          -50,
          -50,
          -50,
          -50,
          -50,
          -50,
          -50,
          -50,
          -50,
          -50,
          -50,
          -50,
          -50,
          -50,
          -50,
          -50,
          -50,
          -50
         ]
        }
       ],
       "layout": {
        "legend": {
         "itemsizing": "constant"
        },
        "scene": {
         "aspectmode": "manual",
         "aspectratio": {
          "x": 1,
          "y": 1,
          "z": 1
         },
         "camera": {
          "eye": {
           "x": 1,
           "y": -1.5,
           "z": 1.4
          }
         },
         "xaxis": {
          "autorange": false,
          "range": [
           -112,
           100
          ],
          "title": {
           "text": "x (m)"
          }
         },
         "yaxis": {
          "autorange": false,
          "range": [
           -106,
           106
          ],
          "title": {
           "text": "y (m)"
          }
         },
         "zaxis": {
          "autorange": false,
          "range": [
           -106,
           106
          ],
          "title": {
           "text": "z (m)"
          }
         }
        },
        "template": {
         "data": {
          "bar": [
           {
            "error_x": {
             "color": "#2a3f5f"
            },
            "error_y": {
             "color": "#2a3f5f"
            },
            "marker": {
             "line": {
              "color": "#E5ECF6",
              "width": 0.5
             },
             "pattern": {
              "fillmode": "overlay",
              "size": 10,
              "solidity": 0.2
             }
            },
            "type": "bar"
           }
          ],
          "barpolar": [
           {
            "marker": {
             "line": {
              "color": "#E5ECF6",
              "width": 0.5
             },
             "pattern": {
              "fillmode": "overlay",
              "size": 10,
              "solidity": 0.2
             }
            },
            "type": "barpolar"
           }
          ],
          "carpet": [
           {
            "aaxis": {
             "endlinecolor": "#2a3f5f",
             "gridcolor": "white",
             "linecolor": "white",
             "minorgridcolor": "white",
             "startlinecolor": "#2a3f5f"
            },
            "baxis": {
             "endlinecolor": "#2a3f5f",
             "gridcolor": "white",
             "linecolor": "white",
             "minorgridcolor": "white",
             "startlinecolor": "#2a3f5f"
            },
            "type": "carpet"
           }
          ],
          "choropleth": [
           {
            "colorbar": {
             "outlinewidth": 0,
             "ticks": ""
            },
            "type": "choropleth"
           }
          ],
          "contour": [
           {
            "colorbar": {
             "outlinewidth": 0,
             "ticks": ""
            },
            "colorscale": [
             [
              0,
              "#0d0887"
             ],
             [
              0.1111111111111111,
              "#46039f"
             ],
             [
              0.2222222222222222,
              "#7201a8"
             ],
             [
              0.3333333333333333,
              "#9c179e"
             ],
             [
              0.4444444444444444,
              "#bd3786"
             ],
             [
              0.5555555555555556,
              "#d8576b"
             ],
             [
              0.6666666666666666,
              "#ed7953"
             ],
             [
              0.7777777777777778,
              "#fb9f3a"
             ],
             [
              0.8888888888888888,
              "#fdca26"
             ],
             [
              1,
              "#f0f921"
             ]
            ],
            "type": "contour"
           }
          ],
          "contourcarpet": [
           {
            "colorbar": {
             "outlinewidth": 0,
             "ticks": ""
            },
            "type": "contourcarpet"
           }
          ],
          "heatmap": [
           {
            "colorbar": {
             "outlinewidth": 0,
             "ticks": ""
            },
            "colorscale": [
             [
              0,
              "#0d0887"
             ],
             [
              0.1111111111111111,
              "#46039f"
             ],
             [
              0.2222222222222222,
              "#7201a8"
             ],
             [
              0.3333333333333333,
              "#9c179e"
             ],
             [
              0.4444444444444444,
              "#bd3786"
             ],
             [
              0.5555555555555556,
              "#d8576b"
             ],
             [
              0.6666666666666666,
              "#ed7953"
             ],
             [
              0.7777777777777778,
              "#fb9f3a"
             ],
             [
              0.8888888888888888,
              "#fdca26"
             ],
             [
              1,
              "#f0f921"
             ]
            ],
            "type": "heatmap"
           }
          ],
          "heatmapgl": [
           {
            "colorbar": {
             "outlinewidth": 0,
             "ticks": ""
            },
            "colorscale": [
             [
              0,
              "#0d0887"
             ],
             [
              0.1111111111111111,
              "#46039f"
             ],
             [
              0.2222222222222222,
              "#7201a8"
             ],
             [
              0.3333333333333333,
              "#9c179e"
             ],
             [
              0.4444444444444444,
              "#bd3786"
             ],
             [
              0.5555555555555556,
              "#d8576b"
             ],
             [
              0.6666666666666666,
              "#ed7953"
             ],
             [
              0.7777777777777778,
              "#fb9f3a"
             ],
             [
              0.8888888888888888,
              "#fdca26"
             ],
             [
              1,
              "#f0f921"
             ]
            ],
            "type": "heatmapgl"
           }
          ],
          "histogram": [
           {
            "marker": {
             "pattern": {
              "fillmode": "overlay",
              "size": 10,
              "solidity": 0.2
             }
            },
            "type": "histogram"
           }
          ],
          "histogram2d": [
           {
            "colorbar": {
             "outlinewidth": 0,
             "ticks": ""
            },
            "colorscale": [
             [
              0,
              "#0d0887"
             ],
             [
              0.1111111111111111,
              "#46039f"
             ],
             [
              0.2222222222222222,
              "#7201a8"
             ],
             [
              0.3333333333333333,
              "#9c179e"
             ],
             [
              0.4444444444444444,
              "#bd3786"
             ],
             [
              0.5555555555555556,
              "#d8576b"
             ],
             [
              0.6666666666666666,
              "#ed7953"
             ],
             [
              0.7777777777777778,
              "#fb9f3a"
             ],
             [
              0.8888888888888888,
              "#fdca26"
             ],
             [
              1,
              "#f0f921"
             ]
            ],
            "type": "histogram2d"
           }
          ],
          "histogram2dcontour": [
           {
            "colorbar": {
             "outlinewidth": 0,
             "ticks": ""
            },
            "colorscale": [
             [
              0,
              "#0d0887"
             ],
             [
              0.1111111111111111,
              "#46039f"
             ],
             [
              0.2222222222222222,
              "#7201a8"
             ],
             [
              0.3333333333333333,
              "#9c179e"
             ],
             [
              0.4444444444444444,
              "#bd3786"
             ],
             [
              0.5555555555555556,
              "#d8576b"
             ],
             [
              0.6666666666666666,
              "#ed7953"
             ],
             [
              0.7777777777777778,
              "#fb9f3a"
             ],
             [
              0.8888888888888888,
              "#fdca26"
             ],
             [
              1,
              "#f0f921"
             ]
            ],
            "type": "histogram2dcontour"
           }
          ],
          "mesh3d": [
           {
            "colorbar": {
             "outlinewidth": 0,
             "ticks": ""
            },
            "type": "mesh3d"
           }
          ],
          "parcoords": [
           {
            "line": {
             "colorbar": {
              "outlinewidth": 0,
              "ticks": ""
             }
            },
            "type": "parcoords"
           }
          ],
          "pie": [
           {
            "automargin": true,
            "type": "pie"
           }
          ],
          "scatter": [
           {
            "fillpattern": {
             "fillmode": "overlay",
             "size": 10,
             "solidity": 0.2
            },
            "type": "scatter"
           }
          ],
          "scatter3d": [
           {
            "line": {
             "colorbar": {
              "outlinewidth": 0,
              "ticks": ""
             }
            },
            "marker": {
             "colorbar": {
              "outlinewidth": 0,
              "ticks": ""
             }
            },
            "type": "scatter3d"
           }
          ],
          "scattercarpet": [
           {
            "marker": {
             "colorbar": {
              "outlinewidth": 0,
              "ticks": ""
             }
            },
            "type": "scattercarpet"
           }
          ],
          "scattergeo": [
           {
            "marker": {
             "colorbar": {
              "outlinewidth": 0,
              "ticks": ""
             }
            },
            "type": "scattergeo"
           }
          ],
          "scattergl": [
           {
            "marker": {
             "colorbar": {
              "outlinewidth": 0,
              "ticks": ""
             }
            },
            "type": "scattergl"
           }
          ],
          "scattermapbox": [
           {
            "marker": {
             "colorbar": {
              "outlinewidth": 0,
              "ticks": ""
             }
            },
            "type": "scattermapbox"
           }
          ],
          "scatterpolar": [
           {
            "marker": {
             "colorbar": {
              "outlinewidth": 0,
              "ticks": ""
             }
            },
            "type": "scatterpolar"
           }
          ],
          "scatterpolargl": [
           {
            "marker": {
             "colorbar": {
              "outlinewidth": 0,
              "ticks": ""
             }
            },
            "type": "scatterpolargl"
           }
          ],
          "scatterternary": [
           {
            "marker": {
             "colorbar": {
              "outlinewidth": 0,
              "ticks": ""
             }
            },
            "type": "scatterternary"
           }
          ],
          "surface": [
           {
            "colorbar": {
             "outlinewidth": 0,
             "ticks": ""
            },
            "colorscale": [
             [
              0,
              "#0d0887"
             ],
             [
              0.1111111111111111,
              "#46039f"
             ],
             [
              0.2222222222222222,
              "#7201a8"
             ],
             [
              0.3333333333333333,
              "#9c179e"
             ],
             [
              0.4444444444444444,
              "#bd3786"
             ],
             [
              0.5555555555555556,
              "#d8576b"
             ],
             [
              0.6666666666666666,
              "#ed7953"
             ],
             [
              0.7777777777777778,
              "#fb9f3a"
             ],
             [
              0.8888888888888888,
              "#fdca26"
             ],
             [
              1,
              "#f0f921"
             ]
            ],
            "type": "surface"
           }
          ],
          "table": [
           {
            "cells": {
             "fill": {
              "color": "#EBF0F8"
             },
             "line": {
              "color": "white"
             }
            },
            "header": {
             "fill": {
              "color": "#C8D4E3"
             },
             "line": {
              "color": "white"
             }
            },
            "type": "table"
           }
          ]
         },
         "layout": {
          "annotationdefaults": {
           "arrowcolor": "#2a3f5f",
           "arrowhead": 0,
           "arrowwidth": 1
          },
          "autotypenumbers": "strict",
          "coloraxis": {
           "colorbar": {
            "outlinewidth": 0,
            "ticks": ""
           }
          },
          "colorscale": {
           "diverging": [
            [
             0,
             "#8e0152"
            ],
            [
             0.1,
             "#c51b7d"
            ],
            [
             0.2,
             "#de77ae"
            ],
            [
             0.3,
             "#f1b6da"
            ],
            [
             0.4,
             "#fde0ef"
            ],
            [
             0.5,
             "#f7f7f7"
            ],
            [
             0.6,
             "#e6f5d0"
            ],
            [
             0.7,
             "#b8e186"
            ],
            [
             0.8,
             "#7fbc41"
            ],
            [
             0.9,
             "#4d9221"
            ],
            [
             1,
             "#276419"
            ]
           ],
           "sequential": [
            [
             0,
             "#0d0887"
            ],
            [
             0.1111111111111111,
             "#46039f"
            ],
            [
             0.2222222222222222,
             "#7201a8"
            ],
            [
             0.3333333333333333,
             "#9c179e"
            ],
            [
             0.4444444444444444,
             "#bd3786"
            ],
            [
             0.5555555555555556,
             "#d8576b"
            ],
            [
             0.6666666666666666,
             "#ed7953"
            ],
            [
             0.7777777777777778,
             "#fb9f3a"
            ],
            [
             0.8888888888888888,
             "#fdca26"
            ],
            [
             1,
             "#f0f921"
            ]
           ],
           "sequentialminus": [
            [
             0,
             "#0d0887"
            ],
            [
             0.1111111111111111,
             "#46039f"
            ],
            [
             0.2222222222222222,
             "#7201a8"
            ],
            [
             0.3333333333333333,
             "#9c179e"
            ],
            [
             0.4444444444444444,
             "#bd3786"
            ],
            [
             0.5555555555555556,
             "#d8576b"
            ],
            [
             0.6666666666666666,
             "#ed7953"
            ],
            [
             0.7777777777777778,
             "#fb9f3a"
            ],
            [
             0.8888888888888888,
             "#fdca26"
            ],
            [
             1,
             "#f0f921"
            ]
           ]
          },
          "colorway": [
           "#636efa",
           "#EF553B",
           "#00cc96",
           "#ab63fa",
           "#FFA15A",
           "#19d3f3",
           "#FF6692",
           "#B6E880",
           "#FF97FF",
           "#FECB52"
          ],
          "font": {
           "color": "#2a3f5f"
          },
          "geo": {
           "bgcolor": "white",
           "lakecolor": "white",
           "landcolor": "#E5ECF6",
           "showlakes": true,
           "showland": true,
           "subunitcolor": "white"
          },
          "hoverlabel": {
           "align": "left"
          },
          "hovermode": "closest",
          "mapbox": {
           "style": "light"
          },
          "paper_bgcolor": "white",
          "plot_bgcolor": "#E5ECF6",
          "polar": {
           "angularaxis": {
            "gridcolor": "white",
            "linecolor": "white",
            "ticks": ""
           },
           "bgcolor": "#E5ECF6",
           "radialaxis": {
            "gridcolor": "white",
            "linecolor": "white",
            "ticks": ""
           }
          },
          "scene": {
           "xaxis": {
            "backgroundcolor": "#E5ECF6",
            "gridcolor": "white",
            "gridwidth": 2,
            "linecolor": "white",
            "showbackground": true,
            "ticks": "",
            "zerolinecolor": "white"
           },
           "yaxis": {
            "backgroundcolor": "#E5ECF6",
            "gridcolor": "white",
            "gridwidth": 2,
            "linecolor": "white",
            "showbackground": true,
            "ticks": "",
            "zerolinecolor": "white"
           },
           "zaxis": {
            "backgroundcolor": "#E5ECF6",
            "gridcolor": "white",
            "gridwidth": 2,
            "linecolor": "white",
            "showbackground": true,
            "ticks": "",
            "zerolinecolor": "white"
           }
          },
          "shapedefaults": {
           "line": {
            "color": "#2a3f5f"
           }
          },
          "ternary": {
           "aaxis": {
            "gridcolor": "white",
            "linecolor": "white",
            "ticks": ""
           },
           "baxis": {
            "gridcolor": "white",
            "linecolor": "white",
            "ticks": ""
           },
           "bgcolor": "#E5ECF6",
           "caxis": {
            "gridcolor": "white",
            "linecolor": "white",
            "ticks": ""
           }
          },
          "title": {
           "x": 0.05
          },
          "xaxis": {
           "automargin": true,
           "gridcolor": "white",
           "linecolor": "white",
           "ticks": "",
           "title": {
            "standoff": 15
           },
           "zerolinecolor": "white",
           "zerolinewidth": 2
          },
          "yaxis": {
           "automargin": true,
           "gridcolor": "white",
           "linecolor": "white",
           "ticks": "",
           "title": {
            "standoff": 15
           },
           "zerolinecolor": "white",
           "zerolinewidth": 2
          }
         }
        }
       }
      }
     },
     "metadata": {},
     "output_type": "display_data"
    },
    {
     "data": {
      "image/png": "[encoded data removed]",
      "text/plain": [
       "<Figure size 1500x500 with 3 Axes>"
      ]
     },
     "metadata": {},
     "output_type": "display_data"
    }
   ],
   "source": [
    "import magpylib as magpy\n",
    "import numpy as np\n",
    "import matplotlib.pyplot as plt\n",
    "\n",
    "def biot_savart_loop(radius, current, observation_point, loop_center, num_segments=100):\n",
    "    mu_0 = 4 * np.pi * 1e-7  # Tm/A\n",
    "\n",
    "    # Discretize the loop into small segments\n",
    "    theta = np.linspace(0, 2 * np.pi, num_segments)\n",
    "    dl = 2 * np.pi * radius / num_segments  # Length of each segment\n",
    "\n",
    "    # Positions of the current elements on the loop\n",
    "    x_prime = loop_center[0] + radius * np.cos(theta)\n",
    "    y_prime = loop_center[1] + radius * np.sin(theta)\n",
    "    z_prime = loop_center[2] * np.ones_like(theta)\n",
    "\n",
    "    B = np.zeros(3)  # Initialize magnetic field vector\n",
    "\n",
    "    for i in range(num_segments):\n",
    "        r_prime = np.array([x_prime[i], y_prime[i], z_prime[i]])\n",
    "        dl_vector = dl * np.array([-np.sin(theta[i]), np.cos(theta[i]), 0])  # Tangential to the loop\n",
    "\n",
    "        r_vec = np.array(observation_point) - r_prime\n",
    "        r_mag = np.linalg.norm(r_vec)\n",
    "\n",
    "        if r_mag != 0:\n",
    "            dB = (mu_0 * current / (4 * np.pi)) * (np.cross(dl_vector, r_vec) / r_mag**3)\n",
    "            B += dB\n",
    "\n",
    "    return B\n",
    "\n",
    "def method_2(radius, current, r):\n",
    "    distance = radius  # distance between the centers of the loops\n",
    "\n",
    "    # Initialize arrays for Bx, By, Bz\n",
    "    Bx = np.zeros_like(r)\n",
    "    By = np.zeros_like(r)\n",
    "    Bz = np.zeros_like(r)\n",
    "\n",
    "    # Calculate the magnetic field along each axis\n",
    "    for i, xi in enumerate(r):\n",
    "        B1 = biot_savart_loop(radius, current, [xi, 0, 0], [0, 0, distance/2])\n",
    "        B2 = biot_savart_loop(radius, -current, [xi, 0, 0], [0, 0, -distance/2])\n",
    "        Bx[i] = B1[0] + B2[0]\n",
    "\n",
    "        B1 = biot_savart_loop(radius, current, [0, xi, 0], [0, 0, distance/2])\n",
    "        B2 = biot_savart_loop(radius, -current, [0, xi, 0], [0, 0, -distance/2])\n",
    "        By[i] = B1[1] + B2[1]\n",
    "\n",
    "        B1 = biot_savart_loop(radius, current, [0, 0, xi], [0, 0, distance/2])\n",
    "        B2 = biot_savart_loop(radius, -current, [0, 0, xi], [0, 0, -distance/2])\n",
    "        Bz[i] = B1[2] + B2[2]\n",
    "\n",
    "    return Bx, By, Bz\n",
    "\n",
    "def method_1(radius, current, r):\n",
    "    distance = radius  # distance between the centers of the loops\n",
    "\n",
    "    # Create the two circular loops\n",
    "    loop1 = magpy.current.Circle(current=+current, diameter=2*radius)\n",
    "    loop2 = magpy.current.Circle(current=-current, diameter=2*radius)\n",
    "\n",
    "    # Position the loops at +distance/2 and -distance/2 along the z-axis\n",
    "    loop1.move([0, 0, distance/2])\n",
    "    loop2.move([0, 0, -distance/2])\n",
    "\n",
    "    # Create a collection of the two loops\n",
    "    collection = magpy.Collection(loop1, loop2)\n",
    "    collection.show()\n",
    "    # Calculate the magnetic field along each axis using the collection\n",
    "    Bx = [collection.getB([xi, 0, 0]) for xi in r]\n",
    "    By = [collection.getB([0, yi, 0]) for yi in r]\n",
    "    Bz = [collection.getB([0, 0, zi]) for zi in r]\n",
    "\n",
    "    # Extract the Bz component (as it is the most significant component for this configuration)\n",
    "    Bx = np.array(Bx)[:, 0]\n",
    "    By = np.array(By)[:, 1]\n",
    "    Bz = np.array(Bz)[:, 2]\n",
    "    return Bx, By, Bz\n",
    "\n",
    "# Define parameters\n",
    "radius = 100  # in mm\n",
    "current = 1  # in A\n",
    "r = np.linspace(-200, 200, 200)  # range in mm\n",
    "\n",
    "Bx, By, Bz = method_1(radius, current, r)\n",
    "Bx_, By_, Bz_ = method_2(radius, current, r)\n",
    "\n",
    "# Plot the magnetic field along each axis\n",
    "plt.figure(figsize=(15, 5))\n",
    "\n",
    "plt.subplot(1, 3, 1)\n",
    "plt.plot(r, Bx)\n",
    "plt.plot(r, Bx_)\n",
    "\n",
    "\n",
    "plt.title('Magnetic Field along X-axis')\n",
    "plt.xlabel('X (mm)')\n",
    "plt.ylabel('Bz (mT)')\n",
    "\n",
    "plt.subplot(1, 3, 2)\n",
    "plt.plot(r, By)\n",
    "plt.plot(r, By_)\n",
    "\n",
    "plt.title('Magnetic Field along Y-axis')\n",
    "plt.xlabel('Y (mm)')\n",
    "plt.ylabel('Bz (mT)')\n",
    "\n",
    "plt.subplot(1, 3, 3)\n",
    "plt.plot(r, Bz)\n",
    "plt.plot(r, Bz_)\n",
    "plt.title('Magnetic Field along Z-axis')\n",
    "plt.xlabel('Z (mm)')\n",
    "plt.ylabel('Bz (mT)')\n",
    "\n",
    "plt.tight_layout()"
   ]
  },
  {
   "cell_type": "code",
   "execution_count": null,
   "metadata": {},
   "outputs": [],
   "source": []
  }
 ],
 "metadata": {
  "kernelspec": {
   "display_name": "Python 3",
   "language": "python",
   "name": "python3"
  },
  "language_info": {
   "codemirror_mode": {
    "name": "ipython",
    "version": 3
   },
   "file_extension": ".py",
   "mimetype": "text/x-python",
   "name": "python",
   "nbconvert_exporter": "python",
   "pygments_lexer": "ipython3",
   "version": "3.12.3"
  }
 },
 "nbformat": 4,
 "nbformat_minor": 2
}
